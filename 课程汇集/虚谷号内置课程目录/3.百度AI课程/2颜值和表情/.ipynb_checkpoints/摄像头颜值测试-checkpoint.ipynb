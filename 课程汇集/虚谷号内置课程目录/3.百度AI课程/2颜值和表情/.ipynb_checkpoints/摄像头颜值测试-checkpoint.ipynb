{
 "cells": [
  {
   "cell_type": "markdown",
   "metadata": {},
   "source": [
    "# 摄像头颜值测试"
   ]
  },
  {
   "cell_type": "raw",
   "metadata": {},
   "source": [
    "本范例的具体介绍请参考百度AI的文档。\n",
    "\n",
    "https://ai.baidu.com/docs#/Face-Python-SDK/81dd3e06"
   ]
  },
  {
   "cell_type": "raw",
   "metadata": {},
   "source": [
    "第一步、导入库"
   ]
  },
  {
   "cell_type": "code",
   "execution_count": null,
   "metadata": {},
   "outputs": [],
   "source": [
    "#!/usr/bin/env python3\n",
    "# -*- coding: utf-8 -*-\n",
    "import cv2\n",
    "import threading\n",
    "import time\n",
    "import base64\n",
    "from aip import AipFace"
   ]
  },
  {
   "cell_type": "raw",
   "metadata": {},
   "source": [
    "第二步、定义变量"
   ]
  },
  {
   "cell_type": "code",
   "execution_count": null,
   "metadata": {},
   "outputs": [],
   "source": [
    "face_num = 0\n",
    "frame = None\n",
    "now_time = 0\n",
    "face_info = {}"
   ]
  },
  {
   "cell_type": "raw",
   "metadata": {},
   "source": [
    "第三步、设置认证信息\n",
    "\n",
    "注：这里用的是测试账号，有访问次数的限制，请使用自己的账号信息。"
   ]
  },
  {
   "cell_type": "code",
   "execution_count": null,
   "metadata": {},
   "outputs": [],
   "source": [
    "\"\"\" 你的 APPID AK SK \"\"\"\n",
    "APP_ID = '15469649'\n",
    "API_KEY = '3vZgLINSnGGEafPflkTLzkGh'\n",
    "SECRET_KEY = '8cUXtkMed2z86kqfyrV606ylnCmfcc48'\n",
    "\n",
    "client = AipFace(APP_ID, API_KEY, SECRET_KEY)"
   ]
  },
  {
   "cell_type": "raw",
   "metadata": {},
   "source": [
    "第四步、图片转换函数，将二进制图片转换为base64加密格式"
   ]
  },
  {
   "cell_type": "code",
   "execution_count": null,
   "metadata": {},
   "outputs": [],
   "source": [
    "def cvimg_to_b64(img):\n",
    "    try:\n",
    "        image = cv2.imencode('.jpg', img)[1]\n",
    "        base64_data = str(base64.b64encode(image))[2:-1]\n",
    "        return base64_data\n",
    "    except Exception as e:\n",
    "        return \"error\""
   ]
  },
  {
   "cell_type": "raw",
   "metadata": {},
   "source": [
    "第五步、获取人脸信息"
   ]
  },
  {
   "cell_type": "code",
   "execution_count": null,
   "metadata": {},
   "outputs": [],
   "source": [
    "def get_face_info(img64):\n",
    "    imageType = \"BASE64\"\n",
    "    \"\"\" 如果有可选参数 \"\"\"\n",
    "    options = {}\n",
    "    options[\"face_field\"] = \"age,beauty,expression,gender,glasses\"\n",
    "    options[\"max_face_num\"] = 2\n",
    "    options[\"face_type\"] = \"LIVE\"\n",
    "    options[\"liveness_control\"] = \"LOW\"\n",
    "\n",
    "    try:\n",
    "        \"\"\" 带参数调用人脸检测 \"\"\"\n",
    "        ret_value = client.detect(img64, imageType, options)\n",
    "        return ret_value\n",
    "    except Exception:\n",
    "        return \"error\""
   ]
  },
  {
   "cell_type": "raw",
   "metadata": {},
   "source": [
    "第六步、识别人脸并提取有效信息"
   ]
  },
  {
   "cell_type": "code",
   "execution_count": null,
   "metadata": {},
   "outputs": [],
   "source": [
    "def post_request(frame, face_num, nt):\n",
    "    global face_info\n",
    "    if (face_num > 0) and (time.time() - nt > 3):\n",
    "        global now_time\n",
    "        now_time = time.time()\n",
    "        img64 = cvimg_to_b64(frame)\n",
    "        res = get_face_info(img64)\n",
    "        try:\n",
    "            status = res['error_msg']\n",
    "        except Exception:\n",
    "            status = \"\"\n",
    "        if (status == \"SUCCESS\"):\n",
    "            face_info['gender'] = res['result']['face_list'][0]['gender']['type']\n",
    "            face_info['age'] = res['result']['face_list'][0]['age']\n",
    "            face_info['beauty'] = res['result']['face_list'][0]['beauty']\n",
    "            return\n",
    "        else:\n",
    "            face_info = {}\n"
   ]
  },
  {
   "cell_type": "raw",
   "metadata": {},
   "source": [
    "第七步、框出人脸"
   ]
  },
  {
   "cell_type": "code",
   "execution_count": null,
   "metadata": {},
   "outputs": [],
   "source": [
    "def faceDetect(img, face_cascade=cv2.CascadeClassifier('haarcascade_frontalface_default.xml')):\n",
    "    size = img.shape[:2]\n",
    "    divisor = 8\n",
    "    h, w = size\n",
    "    minSize = (w // divisor, h // divisor)\n",
    "    gray = cv2.cvtColor(img, cv2.COLOR_BGR2GRAY)\n",
    "    faces = face_cascade.detectMultiScale(gray, 1.2, 1, cv2.CASCADE_SCALE_IMAGE, minSize)\n",
    "    for (x, y, w, h) in faces:\n",
    "        cv2.rectangle(img, (x, y), (x + w, y + h), (255, 0, 0), 2)\n",
    "    return img, len(faces)"
   ]
  },
  {
   "cell_type": "raw",
   "metadata": {},
   "source": [
    "第八步、将人脸信息显示在屏幕上"
   ]
  },
  {
   "cell_type": "code",
   "execution_count": null,
   "metadata": {},
   "outputs": [],
   "source": [
    "def put_Text(cvimg, text, location, size=2):\n",
    "    cvimg = cv2.putText(cvimg, text, location, cv2.FONT_HERSHEY_SIMPLEX, size, (51, 102, 255), 3)\n",
    "    return cvimg"
   ]
  },
  {
   "cell_type": "raw",
   "metadata": {},
   "source": [
    "第九步、程序主函数"
   ]
  },
  {
   "cell_type": "code",
   "execution_count": null,
   "metadata": {},
   "outputs": [],
   "source": [
    "def main():\n",
    "    cap = cv2.VideoCapture(0)\n",
    "    global now_time\n",
    "    now_time = time.time()\n",
    "    while True:\n",
    "        global face_info\n",
    "        ret, frame = cap.read()\n",
    "        if ret:\n",
    "            frame1, face_num = faceDetect(frame)\n",
    "            frame1 = cv2.flip(frame1, 1, dst=None)\n",
    "            frame1 = cv2.resize(frame1, (1280, 800), interpolation=cv2.INTER_LINEAR)\n",
    "            t = threading.Thread(target=post_request, args=(frame, face_num, now_time,), name='POST_REQUEST')\n",
    "            t.start()\n",
    "            print(face_info)\n",
    "            if face_info == {}:\n",
    "                frame1 = put_Text(frame1, \"Waiting...\", (50, 50))\n",
    "            else:\n",
    "                try:\n",
    "                    frame1 = put_Text(frame1, str(int(face_info['age'])), (300, 50))\n",
    "                    frame1 = put_Text(frame1, str(face_info['gender']), (300, 120))\n",
    "                    frame1 = put_Text(frame1, str(int(face_info['beauty'])), (300, 190))\n",
    "                    frame1 = put_Text(frame1, \"Age:\", (50, 50))\n",
    "                    frame1 = put_Text(frame1, \"Gender:\", (50, 120))\n",
    "                    frame1 = put_Text(frame1, \"Beauty:\", (50, 190))\n",
    "                except Exception:\n",
    "                    pass\n",
    "\n",
    "            cv2.imshow('Magic Image', frame1)\n",
    "        if cv2.waitKey(1) & 0xFF == ord('q'):\n",
    "            break\n",
    "    cap.release()\n",
    "    cv2.destroyAllWindows()\n",
    "\n",
    "\n",
    "main()"
   ]
  }
 ],
 "metadata": {
  "kernelspec": {
   "display_name": "Python 3",
   "language": "python",
   "name": "python3"
  },
  "language_info": {
   "codemirror_mode": {
    "name": "ipython",
    "version": 3
   },
   "file_extension": ".py",
   "mimetype": "text/x-python",
   "name": "python",
   "nbconvert_exporter": "python",
   "pygments_lexer": "ipython3",
   "version": "3.5.2"
  }
 },
 "nbformat": 4,
 "nbformat_minor": 2
}
