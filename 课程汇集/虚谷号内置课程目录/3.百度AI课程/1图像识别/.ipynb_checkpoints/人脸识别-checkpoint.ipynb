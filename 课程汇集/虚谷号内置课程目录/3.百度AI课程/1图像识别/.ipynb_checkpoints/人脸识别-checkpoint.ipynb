{
 "cells": [
  {
   "cell_type": "markdown",
   "metadata": {},
   "source": [
    "# 人脸识别"
   ]
  },
  {
   "cell_type": "raw",
   "metadata": {},
   "source": [
    "本范例的具体介绍请参考百度AI的文档。https://ai.baidu.com/docs#/ImageCensoring-Python-SDK/66b47ad7"
   ]
  },
  {
   "cell_type": "raw",
   "metadata": {},
   "source": [
    "第一步、导入库"
   ]
  },
  {
   "cell_type": "code",
   "execution_count": 6,
   "metadata": {},
   "outputs": [],
   "source": [
    "from aip import AipImageCensor\n",
    "import json"
   ]
  },
  {
   "cell_type": "raw",
   "metadata": {},
   "source": [
    "第二步、设置认证信息\n",
    "\n",
    "注：这里用的是测试账号，有访问次数的限制，请使用自己的账号信息。"
   ]
  },
  {
   "cell_type": "code",
   "execution_count": 7,
   "metadata": {},
   "outputs": [],
   "source": [
    "\"\"\" 你的 APPID AK SK \"\"\"\n",
    "APP_ID = '17520265'\n",
    "API_KEY = 'iLnN9HOesAee23glcRQ2QhgU'\n",
    "SECRET_KEY = 'YfMt6s5QIvDi9Cz7WwFdLk65onuNpy3t'\n",
    "\n",
    "client = AipImageCensor(APP_ID, API_KEY, SECRET_KEY)"
   ]
  },
  {
   "cell_type": "raw",
   "metadata": {},
   "source": [
    "第三步、读取图片"
   ]
  },
  {
   "cell_type": "code",
   "execution_count": 8,
   "metadata": {},
   "outputs": [],
   "source": [
    "def get_file_content(filePath):\n",
    "    with open(filePath, 'rb') as fp:\n",
    "        return fp.read()"
   ]
  },
  {
   "cell_type": "raw",
   "metadata": {},
   "source": [
    "第四步、调用接口"
   ]
  },
  {
   "cell_type": "code",
   "execution_count": 9,
   "metadata": {
    "scrolled": true
   },
   "outputs": [
    {
     "name": "stdout",
     "output_type": "stream",
     "text": [
      "{\"log_id\": 15710327394550143, \"result\": {\"public\": {\"log_id\": 6747992337549875470, \"result\": [{\"stars\": [{\"star_id\": \"312718\", \"name\": \"胡歌\", \"probability\": 0.99795013427734}], \"location\": {\"top\": 102, \"height\": 98, \"width\": 100, \"left\": 94}}], \"result_num\": 1}}}\n",
      "====================================================\n",
      "您的撞脸明星是:胡歌,可信度为:0.99795013427734\n"
     ]
    }
   ],
   "source": [
    "result = client.imageCensorComb(get_file_content('huge.jpg'),['public'])\n",
    "json_str = json.dumps(result,ensure_ascii=False)\n",
    "print(json_str)\n",
    "name = result['result']['public']['result'][0]['stars'][0]['name']\n",
    "probability = result['result']['public']['result'][0]['stars'][0]['probability']\n",
    "print('====================================================')\n",
    "print('您的撞脸明星是:{name},可信度为:{probability}'.format(name=name,probability=probability))"
   ]
  }
 ],
 "metadata": {
  "kernelspec": {
   "display_name": "Python 3",
   "language": "python",
   "name": "python3"
  },
  "language_info": {
   "codemirror_mode": {
    "name": "ipython",
    "version": 3
   },
   "file_extension": ".py",
   "mimetype": "text/x-python",
   "name": "python",
   "nbconvert_exporter": "python",
   "pygments_lexer": "ipython3",
   "version": "3.5.2"
  }
 },
 "nbformat": 4,
 "nbformat_minor": 2
}
