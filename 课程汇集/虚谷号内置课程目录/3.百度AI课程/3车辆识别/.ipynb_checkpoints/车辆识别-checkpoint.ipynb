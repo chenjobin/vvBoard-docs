{
 "cells": [
  {
   "cell_type": "markdown",
   "metadata": {},
   "source": [
    "# 车辆识别"
   ]
  },
  {
   "cell_type": "markdown",
   "metadata": {},
   "source": [
    "本范例的具体介绍请参考百度AI的文档。https://ai.baidu.com/docs#/ImageClassify-Python-SDK/496d7920"
   ]
  },
  {
   "cell_type": "markdown",
   "metadata": {},
   "source": [
    "第一步、导入库"
   ]
  },
  {
   "cell_type": "code",
   "execution_count": null,
   "metadata": {},
   "outputs": [],
   "source": [
    "from aip import AipImageClassify"
   ]
  },
  {
   "cell_type": "markdown",
   "metadata": {},
   "source": [
    "第二步、设置认证信息\n",
    "\n",
    "**注：**这里用的是测试账号，有访问次数的限制，请使用自己的账号信息。"
   ]
  },
  {
   "cell_type": "code",
   "execution_count": null,
   "metadata": {},
   "outputs": [],
   "source": [
    "\"\"\" 你的 APPID AK SK \"\"\"\n",
    "AppID = \"17520523\"\n",
    "API_KEY = \"a8BLGEVXd6G39CUGpNnriZ9t\"\n",
    "SECRET_KEY = \"p1Mffb9KlyZgfKAzySk8M9M2FejMqSKz\""
   ]
  },
  {
   "cell_type": "markdown",
   "metadata": {},
   "source": [
    "第三步、读取车辆图片"
   ]
  },
  {
   "cell_type": "code",
   "execution_count": null,
   "metadata": {},
   "outputs": [],
   "source": [
    "def get_file_content(filePath):\n",
    "    with open(filePath, 'rb') as fp:\n",
    "        return fp.read()\n",
    "image = get_file_content('example.jpg')"
   ]
  },
  {
   "cell_type": "markdown",
   "metadata": {},
   "source": [
    "image为图像数据，采用base64编码。要求图片base64编码后大小不超过4M，最短边至少15px，最长边最大4096px,支持jpg/png/bmp格式。"
   ]
  },
  {
   "cell_type": "markdown",
   "metadata": {},
   "source": [
    "第四步、调用车辆识别"
   ]
  },
  {
   "cell_type": "code",
   "execution_count": null,
   "metadata": {},
   "outputs": [],
   "source": [
    "client = AipImageClassify(APP_ID, API_KEY, SECRET_KEY)\n",
    "client.carDetect(image);\n",
    "\"\"\" 如果有可选参数 \"\"\"\n",
    "options = {}\n",
    "options[\"top_num\"] = 5\n",
    "options[\"baike_num\"] = 1\n",
    "\"\"\" 带参数调用车辆识别 \"\"\"\n",
    "ret = client.carDetect(image, options)"
   ]
  },
  {
   "cell_type": "markdown",
   "metadata": {},
   "source": [
    "参数说明：\n",
    "\n",
    "top_num为返回预测得分top结果数，默认为5。一般我们都会选择第一条结果。**注：**哪怕top_num小于5，也会返回5条数据。\n",
    "\n",
    "baike_num为返回百科信息的结果数，默认不返回。"
   ]
  },
  {
   "cell_type": "markdown",
   "metadata": {},
   "source": [
    "第五步、输出识别结果"
   ]
  },
  {
   "cell_type": "code",
   "execution_count": null,
   "metadata": {},
   "outputs": [],
   "source": [
    "print(ret)"
   ]
  },
  {
   "cell_type": "markdown",
   "metadata": {},
   "source": [
    "执行到这里，你将看到如下信息：\n",
    "```\n",
    "{'location_result': {'height': 286.3188171386719, 'left': 63.58101654052734, 'width': 750.3477783203125, 'top': 227.6038513183594}, 'result': [{'score': 0.9993243217468262, 'year': '2004-2015', 'baike_info': {'image_url': 'http://imgsrc.baidu.com/baike/pic/item/a75fb6d3c42b2404970a16c1.jpg', 'description': '布加迪威航是意大利著名的跑车品牌，法国车厂生产，隶属于德国大众旗下。世界汽车业界传奇品牌布加迪与奢侈品品牌爱马仕共同推出的布加迪威航·爱马仕特别版首次亮相亚太地区，并于北京西路的宾利汽车展厅展出。自2008年9月9日首度亮相环球金融中心起将在沪展示两周，随后将前往亚太各国展出。布加迪威航·爱马仕特别版售价人民币4300万元(含税金及运费)。2015年2月24日报道，大众汽车集团售出了第450辆也是最后一辆威航，标志着世界上最独特的超跑最终退出舞台。绝版威龙定名La Finale，为Grand Sport Vitesse敞篷版，拥有动力强劲的发动机，可迸发出1200马力。该车将于下周在日内瓦车展上展出。布加迪公司发表声明称，威航均价为每辆230万欧元(约合人民币1620万元)。', 'baike_url': 'http://baike.baidu.com/item/%E5%B8%83%E5%8A%A0%E8%BF%AA%E5%A8%81%E8%88%AA/709418'}, 'name': '布加迪威航'}, {'score': 0.0006641951040364802, 'year': '2018', 'name': '布加迪Chiron'}, {'score': 4.795698259840719e-06, 'year': '2009', 'name': '布加迪Galibier'}, {'score': 1.320140086136234e-06, 'year': '2009-2012', 'name': '威兹曼GT'}, {'score': 1.007913169814856e-06, 'year': '2013', 'name': '雪铁龙Survolt'}], 'log_id': 2305485862108592012, 'color_result': '蓝色'}\n",
    "```\n",
    "这些返回的信息，是Python中的字典（Dictionary）类型的数据。"
   ]
  },
  {
   "cell_type": "markdown",
   "metadata": {},
   "source": [
    "没有整理过的文本看起来很累，可以利用一些在线的解析JSON的工具，整理一下文本。\n",
    "如：https://www.bejson.com/\n",
    "整理后的文本如下："
   ]
  },
  {
   "cell_type": "markdown",
   "metadata": {},
   "source": [
    "```\n",
    "{\n",
    "\t'location_result': {\n",
    "\t\t'height': 286.3188171386719,\n",
    "\t\t'left': 63.58101654052734,\n",
    "\t\t'width': 750.3477783203125,\n",
    "\t\t'top': 227.6038513183594\n",
    "\t},\n",
    "\t'result': [{\n",
    "\t\t'baike_info': {\n",
    "\t\t\t'image_url': 'http://imgsrc.baidu.com/baike/pic/item/a75fb6d3c42b2404970a16c1.jpg',\n",
    "\t\t\t'description': '布加迪威航是意大利著名的跑车品牌，法国车厂生产，隶属于德国大众旗下。世界汽车业界传奇品牌布加迪与奢侈品品牌爱马仕共同推出的布加迪威航·爱马仕特别版首次亮相亚太地区，并于北京西路的宾利汽车展厅展出。自2008年9月9日首度亮相环球金融中心起将在沪展示两周，随后将前往亚太各国展出。布加迪威航·爱马仕特别版售价人民币4300万元(含税金及运费)。2015年2月24日报道，大众汽车集团售出了第450辆也是最后一辆威航，标志着世界上最独特的超跑最终退出舞台。绝版威龙定名La Finale，为Grand Sport Vitesse敞篷版，拥有动力强劲的发动机，可迸发出1200马力。该车将于下周在日内瓦车展上展出。布加迪公司发表声明称，威航均价为每辆230万欧元(约合人民币1620万元)。',\n",
    "\t\t\t'baike_url': 'http://baike.baidu.com/item/%E5%B8%83%E5%8A%A0%E8%BF%AA%E5%A8%81%E8%88%AA/709418'\n",
    "\t\t},\n",
    "\t\t'score': 0.9993243217468262,\n",
    "\t\t'year': '2004-2015',\n",
    "\t\t'name': '布加迪威航'\n",
    "\t}, {\n",
    "\t\t'score': 0.0006641951040364802,\n",
    "\t\t'year': '2018',\n",
    "\t\t'name': '布加迪Chiron'\n",
    "\t}, {\n",
    "\t\t'score': 4.795698259840719e-06,\n",
    "\t\t'year': '2009',\n",
    "\t\t'name': '布加迪Galibier'\n",
    "\t}, {\n",
    "\t\t'score': 1.320140086136234e-06,\n",
    "\t\t'year': '2009-2012',\n",
    "\t\t'name': '威兹曼GT'\n",
    "\t}, {\n",
    "\t\t'score': 1.007913169814856e-06,\n",
    "\t\t'year': '2013',\n",
    "\t\t'name': '雪铁龙Survolt'\n",
    "\t}],\n",
    "\t'log_id': 1267146551759121132,\n",
    "\t'color_result': '蓝色'\n",
    "}\n",
    "```"
   ]
  },
  {
   "cell_type": "markdown",
   "metadata": {},
   "source": [
    "如果熟悉字典的操作，可以用keys得到第一层的所有键值。"
   ]
  },
  {
   "cell_type": "code",
   "execution_count": null,
   "metadata": {},
   "outputs": [],
   "source": [
    "print(ret.keys())"
   ]
  },
  {
   "cell_type": "markdown",
   "metadata": {},
   "source": [
    "用对象名加键值的方法，可以访问这个字典的某个键，如“ret['result']”得到result键下所有内容。"
   ]
  },
  {
   "cell_type": "code",
   "execution_count": null,
   "metadata": {},
   "outputs": [],
   "source": [
    "print(ret['result'])"
   ]
  },
  {
   "cell_type": "markdown",
   "metadata": {},
   "source": [
    "继续输出ret['result'][0]下的所有键值。"
   ]
  },
  {
   "cell_type": "code",
   "execution_count": null,
   "metadata": {},
   "outputs": [],
   "source": [
    "print(ret['result'][0].keys())"
   ]
  },
  {
   "cell_type": "markdown",
   "metadata": {},
   "source": [
    "用“[]“，可以一层一层找到想要的数据，如“description = ret['result'][0]['baike_info']['description']”，就找到了description。"
   ]
  },
  {
   "cell_type": "code",
   "execution_count": null,
   "metadata": {},
   "outputs": [],
   "source": [
    "cname = ret['result'][0]['name']\n",
    "description = ret['result'][0]['baike_info']['description']\n",
    "print(\"找到车型：\",cname)\n",
    "print(\"车型介绍：\",description)"
   ]
  },
  {
   "cell_type": "markdown",
   "metadata": {},
   "source": [
    "还可以用get的方法，得到其中某一项数据。"
   ]
  },
  {
   "cell_type": "code",
   "execution_count": null,
   "metadata": {},
   "outputs": [],
   "source": [
    "baike_url = ret['result'][0]['baike_info'].get('baike_url')\n",
    "print(\"百度百科链接：\",baike_url)"
   ]
  },
  {
   "cell_type": "markdown",
   "metadata": {},
   "source": [
    "你也可以json.dumps把字典转换为JSON格式字符串，然后在json.cn下分析。"
   ]
  },
  {
   "cell_type": "code",
   "execution_count": null,
   "metadata": {},
   "outputs": [],
   "source": [
    "import json\n",
    "d = json.dumps(ret)\n",
    "print(d)"
   ]
  },
  {
   "cell_type": "markdown",
   "metadata": {},
   "source": [
    "学会处理字典，是学习Python的基本功。"
   ]
  }
 ],
 "metadata": {
  "kernelspec": {
   "display_name": "Python 3",
   "language": "python",
   "name": "python3"
  },
  "language_info": {
   "codemirror_mode": {
    "name": "ipython",
    "version": 3
   },
   "file_extension": ".py",
   "mimetype": "text/x-python",
   "name": "python",
   "nbconvert_exporter": "python",
   "pygments_lexer": "ipython3",
   "version": "3.5.2"
  }
 },
 "nbformat": 4,
 "nbformat_minor": 2
}
