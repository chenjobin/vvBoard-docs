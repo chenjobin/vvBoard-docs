{
 "cells": [
  {
   "cell_type": "markdown",
   "metadata": {
    "slideshow": {
     "slide_type": "-"
    }
   },
   "source": [
    "# 音乐播放控制"
   ]
  },
  {
   "cell_type": "markdown",
   "metadata": {},
   "source": [
    "注意：\n",
    "    - 如果使用usb小音箱，一定要采用2A以上的电源线供电。\n",
    "    - 要调节系统声音需要将asound.conf放到/etc里面（新固件已经放好）"
   ]
  },
  {
   "cell_type": "raw",
   "metadata": {},
   "source": [
    "第一步：导入库"
   ]
  },
  {
   "cell_type": "code",
   "execution_count": null,
   "metadata": {},
   "outputs": [],
   "source": [
    "import os\n",
    "import time\n",
    "import pygame"
   ]
  },
  {
   "cell_type": "raw",
   "metadata": {},
   "source": [
    "第二步：初始化pygame"
   ]
  },
  {
   "cell_type": "code",
   "execution_count": null,
   "metadata": {},
   "outputs": [],
   "source": [
    "pygame.init()"
   ]
  },
  {
   "cell_type": "raw",
   "metadata": {},
   "source": [
    "第三步：选择播放的音乐"
   ]
  },
  {
   "cell_type": "code",
   "execution_count": null,
   "metadata": {},
   "outputs": [],
   "source": [
    "track = pygame.mixer.music.load(\"audio.mp3\")#选择播放音乐"
   ]
  },
  {
   "cell_type": "raw",
   "metadata": {},
   "source": [
    "第四步：开始播放音乐"
   ]
  },
  {
   "cell_type": "code",
   "execution_count": null,
   "metadata": {},
   "outputs": [],
   "source": [
    "pygame.mixer.music.play()#开始播放"
   ]
  },
  {
   "cell_type": "raw",
   "metadata": {},
   "source": [
    "第五步：调节音量的大小，音量value的范围为0.0到1.0。"
   ]
  },
  {
   "cell_type": "code",
   "execution_count": null,
   "metadata": {},
   "outputs": [],
   "source": [
    "pygame.mixer.music.set_volume(0.8)# 来设置播放的音量，音量value的范围为0.0到1.0。"
   ]
  },
  {
   "cell_type": "raw",
   "metadata": {},
   "source": [
    "第六步：调节系统音量，取值范围0-37,这里设置为17"
   ]
  },
  {
   "cell_type": "code",
   "execution_count": null,
   "metadata": {
    "slideshow": {
     "slide_type": "slide"
    }
   },
   "outputs": [],
   "source": [
    "#调节系统音量，值为0-37,这里设置为17\n",
    "os.system(\"amixer cset numid=6,iface=MIXER,name='Speaker Playback Volume' 17\")"
   ]
  },
  {
   "cell_type": "raw",
   "metadata": {},
   "source": [
    "第七步：暂停播放音乐"
   ]
  },
  {
   "cell_type": "code",
   "execution_count": null,
   "metadata": {},
   "outputs": [],
   "source": [
    "pygame.mixer.music.stop()#暂停播放"
   ]
  },
  {
   "cell_type": "code",
   "execution_count": null,
   "metadata": {},
   "outputs": [],
   "source": [
    "第八步：用滑杆控制音量\n",
    "\n",
    "使用jupyter自带的网页控件。\n",
    "注：滑杆的取值范围为-value到2*value之间。"
   ]
  },
  {
   "cell_type": "code",
   "execution_count": null,
   "metadata": {},
   "outputs": [],
   "source": [
    "from ipywidgets import interact\n",
    "def f(value):\n",
    "    print((value+5)/20)\n",
    "    pygame.mixer.music.set_volume((value+5)/20)\n",
    "# Generate a slider \n",
    "interact(f, value=5);"
   ]
  }
 ],
 "metadata": {
  "kernelspec": {
   "display_name": "Python 3",
   "language": "python",
   "name": "python3"
  },
  "language_info": {
   "codemirror_mode": {
    "name": "ipython",
    "version": 3
   },
   "file_extension": ".py",
   "mimetype": "text/x-python",
   "name": "python",
   "nbconvert_exporter": "python",
   "pygments_lexer": "ipython3",
   "version": "3.5.2"
  }
 },
 "nbformat": 4,
 "nbformat_minor": 2
}
